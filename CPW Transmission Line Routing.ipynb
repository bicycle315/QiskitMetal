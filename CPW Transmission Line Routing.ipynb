{
 "cells": [
  {
   "cell_type": "code",
   "execution_count": 95,
   "metadata": {},
   "outputs": [],
   "source": [
    "%reload_ext autoreload\n",
    "%autoreload 2\n",
    "from qiskit_metal import designs\n",
    "from qiskit_metal import MetalGUI, Dict\n",
    "\n",
    "design = designs.DesignPlanar()\n",
    "gui = MetalGUI(design)\n",
    "\n",
    "design.variables['cpw_width'] = '10 um'\n",
    "design.variables['cpw_gap'] = '6 um'"
   ]
  },
  {
   "cell_type": "code",
   "execution_count": 101,
   "metadata": {},
   "outputs": [],
   "source": [
    "# enable rebuild of the same component\n",
    "design.overwrite_enabled = True"
   ]
  },
  {
   "cell_type": "code",
   "execution_count": 3,
   "metadata": {},
   "outputs": [],
   "source": [
    "# for pins:\n",
    "from qiskit_metal.qlibrary.terminations.open_to_ground import OpenToGround\n",
    "# for routing:\n",
    "from qiskit_metal.qlibrary.tlines.straight_path import RouteStraight\n",
    "from qiskit_metal.qlibrary.tlines.framed_path import RouteFramed\n",
    "# for jogs:\n",
    "from collections import OrderedDict"
   ]
  },
  {
   "cell_type": "code",
   "execution_count": 125,
   "metadata": {},
   "outputs": [],
   "source": [
    "from qiskit_metal.qlibrary.tlines.meandered import RouteMeander\n",
    "from qiskit_metal.qlibrary.tlines.pathfinder import RoutePathfinder\n"
   ]
  },
  {
   "cell_type": "code",
   "execution_count": 126,
   "metadata": {},
   "outputs": [],
   "source": [
    "design.delete_all_components()\n",
    "gui.rebuild()"
   ]
  },
  {
   "cell_type": "code",
   "execution_count": 25,
   "metadata": {},
   "outputs": [],
   "source": [
    "pin_opt = Dict(pin_inputs=Dict(start_pin=Dict(\n",
    "                                    component='otg_s',\n",
    "                                    pin='open'),\n",
    "                                end_pin=Dict(\n",
    "                                    component='otg_e',\n",
    "                                    pin='open')))"
   ]
  },
  {
   "cell_type": "code",
   "execution_count": 127,
   "metadata": {},
   "outputs": [
    {
     "name": "stderr",
     "output_type": "stream",
     "text": [
      "WARNING:py.warnings:C:\\Users\\kimje\\anaconda3\\envs\\metal\\lib\\site-packages\\shapely\\geometry\\base.py:250: ShapelyDeprecationWarning: Setting the 'coords' to mutate a Geometry in place is deprecated, and will not be possible any more in Shapely 2.0\n",
      "  super().__setattr__(name, value)\n",
      "\n",
      "WARNING:py.warnings:C:\\Users\\kimje\\anaconda3\\envs\\metal\\lib\\site-packages\\shapely\\geometry\\base.py:250: ShapelyDeprecationWarning: Setting the 'coords' to mutate a Geometry in place is deprecated, and will not be possible any more in Shapely 2.0\n",
      "  super().__setattr__(name, value)\n",
      "\n"
     ]
    },
    {
     "data": {
      "text/plain": [
       "{'pos_x': '0.0um',\n",
       " 'pos_y': '0.0um',\n",
       " 'orientation': '0.0',\n",
       " 'chip': 'main',\n",
       " 'layer': '1',\n",
       " 'width': '10um',\n",
       " 'gap': '6um',\n",
       " 'termination_gap': '6um'}"
      ]
     },
     "execution_count": 127,
     "metadata": {},
     "output_type": "execute_result"
    }
   ],
   "source": [
    "otg_s = OpenToGround(design, 'otg_s', options=dict(pos_x='0mm',  pos_y='1mm', orientation='180'))\n",
    "otg_e = OpenToGround(design, 'otg_e', options=dict(pos_x='5mm',  pos_y='1mm', orientation='0'))\n",
    "OpenToGround.get_template_options(design)"
   ]
  },
  {
   "cell_type": "code",
   "execution_count": 124,
   "metadata": {},
   "outputs": [
    {
     "name": "stderr",
     "output_type": "stream",
     "text": [
      "WARNING:py.warnings:C:\\Users\\kimje\\anaconda3\\envs\\metal\\lib\\site-packages\\shapely\\geometry\\base.py:250: ShapelyDeprecationWarning: Setting the 'coords' to mutate a Geometry in place is deprecated, and will not be possible any more in Shapely 2.0\n",
      "  super().__setattr__(name, value)\n",
      "\n",
      "WARNING:py.warnings:C:\\Users\\kimje\\anaconda3\\envs\\metal\\lib\\site-packages\\shapely\\geometry\\base.py:250: ShapelyDeprecationWarning: Setting the 'coords' to mutate a Geometry in place is deprecated, and will not be possible any more in Shapely 2.0\n",
      "  super().__setattr__(name, value)\n",
      "\n",
      "WARNING:py.warnings:C:\\Users\\kimje\\anaconda3\\envs\\metal\\lib\\site-packages\\shapely\\geometry\\base.py:250: ShapelyDeprecationWarning: Setting the 'coords' to mutate a Geometry in place is deprecated, and will not be possible any more in Shapely 2.0\n",
      "  super().__setattr__(name, value)\n",
      "\n",
      "WARNING:py.warnings:C:\\Users\\kimje\\anaconda3\\envs\\metal\\lib\\site-packages\\shapely\\geometry\\base.py:250: ShapelyDeprecationWarning: Setting the 'coords' to mutate a Geometry in place is deprecated, and will not be possible any more in Shapely 2.0\n",
      "  super().__setattr__(name, value)\n",
      "\n",
      "WARNING:py.warnings:C:\\Users\\kimje\\anaconda3\\envs\\metal\\lib\\site-packages\\shapely\\geometry\\base.py:250: ShapelyDeprecationWarning: Setting the 'coords' to mutate a Geometry in place is deprecated, and will not be possible any more in Shapely 2.0\n",
      "  super().__setattr__(name, value)\n",
      "\n",
      "WARNING:py.warnings:C:\\Users\\kimje\\anaconda3\\envs\\metal\\lib\\site-packages\\shapely\\geometry\\base.py:250: ShapelyDeprecationWarning: Setting the 'coords' to mutate a Geometry in place is deprecated, and will not be possible any more in Shapely 2.0\n",
      "  super().__setattr__(name, value)\n",
      "\n",
      "WARNING:py.warnings:C:\\Users\\kimje\\anaconda3\\envs\\metal\\lib\\site-packages\\pandas\\core\\dtypes\\cast.py:118: ShapelyDeprecationWarning: The array interface is deprecated and will no longer work in Shapely 2.0. Convert the '.coords' to a numpy array instead.\n",
      "  arr = construct_1d_object_array_from_listlike(values)\n",
      "\n",
      "WARNING:py.warnings:C:\\Users\\kimje\\anaconda3\\envs\\metal\\lib\\site-packages\\descartes\\patch.py:62: ShapelyDeprecationWarning: The array interface is deprecated and will no longer work in Shapely 2.0. Convert the '.coords' to a numpy array instead.\n",
      "  vertices = concatenate([\n",
      "\n",
      "WARNING:py.warnings:C:\\Users\\kimje\\anaconda3\\envs\\metal\\lib\\site-packages\\pandas\\core\\dtypes\\cast.py:118: ShapelyDeprecationWarning: The array interface is deprecated and will no longer work in Shapely 2.0. Convert the '.coords' to a numpy array instead.\n",
      "  arr = construct_1d_object_array_from_listlike(values)\n",
      "\n",
      "WARNING:py.warnings:C:\\Users\\kimje\\anaconda3\\envs\\metal\\lib\\site-packages\\descartes\\patch.py:62: ShapelyDeprecationWarning: The array interface is deprecated and will no longer work in Shapely 2.0. Convert the '.coords' to a numpy array instead.\n",
      "  vertices = concatenate([\n",
      "\n",
      "WARNING:py.warnings:C:\\Users\\kimje\\anaconda3\\envs\\metal\\lib\\site-packages\\descartes\\patch.py:62: ShapelyDeprecationWarning: The array interface is deprecated and will no longer work in Shapely 2.0. Convert the '.coords' to a numpy array instead.\n",
      "  vertices = concatenate([\n",
      "\n"
     ]
    }
   ],
   "source": [
    "\n",
    "jogsS=OrderedDict()\n",
    "jogsS[0]=[\"L\",'1mm']\n",
    "jogsS[1]=[\"R\",'1mm']\n",
    "\n",
    "jogsE=OrderedDict()\n",
    "jogsE[0]=[\"L\",'1mm']\n",
    "jogsE[1]=[\"R\", '1mm']\n",
    "#jogsE[2]=[\"L\", '1mm']\n",
    "\n",
    "options = Dict(\n",
    "    total_length= '30mm',\n",
    "    hfss_wire_bonds = True,\n",
    "    pin_inputs=Dict(\n",
    "        start_pin=Dict(\n",
    "            component= 'otg_s',\n",
    "            pin= 'open'),\n",
    "        end_pin=Dict(\n",
    "            component= 'otg_e',\n",
    "            pin= 'open')),\n",
    "    lead=Dict(\n",
    "        start_straight='0.5mm',\n",
    "        end_straight='1mm',\n",
    "        start_jogged_extension='0um',\n",
    "        end_jogged_extension='0mm'),\n",
    "    meander=Dict(\n",
    "       asymmetry='0mm',\n",
    "       spacing='400um'),\n",
    "       fillet='200um')\n",
    "\n",
    "#options.lead.start_jogged_extension=jogsS\n",
    "#options.lead.end_jogged_extension=jogsE\n",
    "\n",
    "cpw = RouteMeander(design, 'cpw', options=options)\n",
    "gui.rebuild()\n",
    "gui.autoscale()"
   ]
  },
  {
   "cell_type": "code",
   "execution_count": 33,
   "metadata": {},
   "outputs": [
    {
     "data": {
      "text/plain": [
       "{'chip': 'main',\n",
       " 'layer': '1',\n",
       " 'pin_inputs': {'start_pin': {'component': '', 'pin': ''},\n",
       "  'end_pin': {'component': '', 'pin': ''}},\n",
       " 'fillet': '0',\n",
       " 'lead': {'start_straight': '0mm',\n",
       "  'end_straight': '0mm',\n",
       "  'start_jogged_extension': '',\n",
       "  'end_jogged_extension': ''},\n",
       " 'total_length': '7mm',\n",
       " 'trace_width': 'cpw_width',\n",
       " 'meander': {'spacing': '200um', 'asymmetry': '0um'},\n",
       " 'snap': 'true',\n",
       " 'prevent_short_edges': 'true',\n",
       " 'hfss_wire_bonds': False,\n",
       " 'q3d_wire_bonds': False}"
      ]
     },
     "execution_count": 33,
     "metadata": {},
     "output_type": "execute_result"
    }
   ],
   "source": [
    "RouteMeander.get_template_options(design)"
   ]
  },
  {
   "cell_type": "code",
   "execution_count": 131,
   "metadata": {},
   "outputs": [
    {
     "name": "stderr",
     "output_type": "stream",
     "text": [
      "WARNING:py.warnings:C:\\Users\\kimje\\anaconda3\\envs\\metal\\lib\\site-packages\\shapely\\geometry\\base.py:250: ShapelyDeprecationWarning: Setting the 'coords' to mutate a Geometry in place is deprecated, and will not be possible any more in Shapely 2.0\n",
      "  super().__setattr__(name, value)\n",
      "\n",
      "WARNING:py.warnings:C:\\Users\\kimje\\anaconda3\\envs\\metal\\lib\\site-packages\\shapely\\geometry\\base.py:250: ShapelyDeprecationWarning: Setting the 'coords' to mutate a Geometry in place is deprecated, and will not be possible any more in Shapely 2.0\n",
      "  super().__setattr__(name, value)\n",
      "\n",
      "WARNING:py.warnings:C:\\Users\\kimje\\anaconda3\\envs\\metal\\lib\\site-packages\\shapely\\geometry\\base.py:250: ShapelyDeprecationWarning: Setting the 'coords' to mutate a Geometry in place is deprecated, and will not be possible any more in Shapely 2.0\n",
      "  super().__setattr__(name, value)\n",
      "\n",
      "WARNING:py.warnings:C:\\Users\\kimje\\anaconda3\\envs\\metal\\lib\\site-packages\\shapely\\geometry\\base.py:250: ShapelyDeprecationWarning: Setting the 'coords' to mutate a Geometry in place is deprecated, and will not be possible any more in Shapely 2.0\n",
      "  super().__setattr__(name, value)\n",
      "\n",
      "WARNING:py.warnings:C:\\Users\\kimje\\anaconda3\\envs\\metal\\lib\\site-packages\\shapely\\geometry\\base.py:250: ShapelyDeprecationWarning: Setting the 'coords' to mutate a Geometry in place is deprecated, and will not be possible any more in Shapely 2.0\n",
      "  super().__setattr__(name, value)\n",
      "\n",
      "WARNING:py.warnings:C:\\Users\\kimje\\anaconda3\\envs\\metal\\lib\\site-packages\\shapely\\geometry\\base.py:250: ShapelyDeprecationWarning: Setting the 'coords' to mutate a Geometry in place is deprecated, and will not be possible any more in Shapely 2.0\n",
      "  super().__setattr__(name, value)\n",
      "\n",
      "WARNING:py.warnings:C:\\Users\\kimje\\anaconda3\\envs\\metal\\lib\\site-packages\\pandas\\core\\dtypes\\cast.py:118: ShapelyDeprecationWarning: The array interface is deprecated and will no longer work in Shapely 2.0. Convert the '.coords' to a numpy array instead.\n",
      "  arr = construct_1d_object_array_from_listlike(values)\n",
      "\n",
      "WARNING:py.warnings:C:\\Users\\kimje\\anaconda3\\envs\\metal\\lib\\site-packages\\descartes\\patch.py:62: ShapelyDeprecationWarning: The array interface is deprecated and will no longer work in Shapely 2.0. Convert the '.coords' to a numpy array instead.\n",
      "  vertices = concatenate([\n",
      "\n",
      "WARNING:py.warnings:C:\\Users\\kimje\\anaconda3\\envs\\metal\\lib\\site-packages\\pandas\\core\\dtypes\\cast.py:118: ShapelyDeprecationWarning: The array interface is deprecated and will no longer work in Shapely 2.0. Convert the '.coords' to a numpy array instead.\n",
      "  arr = construct_1d_object_array_from_listlike(values)\n",
      "\n",
      "WARNING:py.warnings:C:\\Users\\kimje\\anaconda3\\envs\\metal\\lib\\site-packages\\descartes\\patch.py:62: ShapelyDeprecationWarning: The array interface is deprecated and will no longer work in Shapely 2.0. Convert the '.coords' to a numpy array instead.\n",
      "  vertices = concatenate([\n",
      "\n",
      "WARNING:py.warnings:C:\\Users\\kimje\\anaconda3\\envs\\metal\\lib\\site-packages\\descartes\\patch.py:62: ShapelyDeprecationWarning: The array interface is deprecated and will no longer work in Shapely 2.0. Convert the '.coords' to a numpy array instead.\n",
      "  vertices = concatenate([\n",
      "\n"
     ]
    }
   ],
   "source": [
    "import numpy as np\n",
    "anchors = OrderedDict()\n",
    "anchors[0] = np.array([1,-1])\n",
    "anchors[1] = np.array([3,2])\n",
    "\n",
    "options = {'pin_inputs':\n",
    "            {'start_pin': {'component': 'otg_s', 'pin': 'open'},\n",
    "             'end_pin': {'component': 'otg_e', 'pin': 'open'}},\n",
    "            'lead': {'start_straight': '0um', 'end_straight': '1mm'},\n",
    "            #'step_size': '0.25mm',\n",
    "            'anchors': anchors,\n",
    "            'fillet':'90um'}\n",
    "           \n",
    "\n",
    "qa = RoutePathfinder(design, 'line', options)\n",
    "\n",
    "gui.rebuild()\n",
    "gui.autoscale()"
   ]
  },
  {
   "cell_type": "code",
   "execution_count": null,
   "metadata": {},
   "outputs": [],
   "source": []
  }
 ],
 "metadata": {
  "interpreter": {
   "hash": "088945219b8e66c4c435954c26e6c6e9bef46b36756aae3f51c0d4a846847d67"
  },
  "kernelspec": {
   "display_name": "Python 3.9.7 64-bit ('metal': conda)",
   "language": "python",
   "name": "python3"
  },
  "language_info": {
   "codemirror_mode": {
    "name": "ipython",
    "version": 3
   },
   "file_extension": ".py",
   "mimetype": "text/x-python",
   "name": "python",
   "nbconvert_exporter": "python",
   "pygments_lexer": "ipython3",
   "version": "3.9.7"
  },
  "orig_nbformat": 4
 },
 "nbformat": 4,
 "nbformat_minor": 2
}
