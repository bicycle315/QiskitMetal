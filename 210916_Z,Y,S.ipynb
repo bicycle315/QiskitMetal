{
 "cells": [
  {
   "cell_type": "markdown",
   "id": "0e5c95c7",
   "metadata": {},
   "source": [
    "# Impedance, admittance and scattering analysis"
   ]
  },
  {
   "cell_type": "code",
   "execution_count": 1,
   "id": "946089bd",
   "metadata": {},
   "outputs": [],
   "source": [
    "%load_ext autoreload\n",
    "%autoreload 2\n",
    "\n",
    "import qiskit_metal as metal\n",
    "from qiskit_metal import designs, draw\n",
    "from qiskit_metal import MetalGUI, Dict, Headings\n",
    "import pyEPR as epr"
   ]
  },
  {
   "cell_type": "markdown",
   "id": "7d36b385",
   "metadata": {},
   "source": [
    "# 1. Create the design in Metal"
   ]
  },
  {
   "cell_type": "code",
   "execution_count": 3,
   "id": "877b8f05",
   "metadata": {},
   "outputs": [],
   "source": [
    "design = designs.DesignPlanar({}, True)\n",
    "design.chips.main.size['size_x'] = '2mm'\n",
    "design.chips.main.size['size_y'] = '2mm'\n",
    "\n",
    "gui = MetalGUI(design)"
   ]
  },
  {
   "cell_type": "code",
   "execution_count": 4,
   "id": "d889fad0",
   "metadata": {},
   "outputs": [],
   "source": [
    "from qiskit_metal.qlibrary.qubits.transmon_pocket import TransmonPocket\n",
    "\n",
    "design.delete_all_components()\n",
    "\n",
    "q1 = TransmonPocket(design, 'Q1', options =  dict(\n",
    "    pad_width = '425 um',\n",
    "    pocket_height = '650um',\n",
    "    connection_pads=dict(\n",
    "        readout = dict(loc_W=+1,loc_H=+1, pad_width='200um')\n",
    "    )))\n",
    "\n",
    "gui.rebuild()\n",
    "gui.autoscale()"
   ]
  },
  {
   "cell_type": "markdown",
   "id": "006dc5e5",
   "metadata": {},
   "source": [
    "# 2. Eigenmode and Impedance analysis using the analysis package - most users"
   ]
  },
  {
   "cell_type": "code",
   "execution_count": 5,
   "id": "f7b216e6",
   "metadata": {},
   "outputs": [],
   "source": [
    "# Using DRIVENMODAL ANALYSIS IN HFSS\n",
    "from qiskit_metal.analyses.simulation import ScatteringImpedanceSim\n",
    "em1 = ScatteringImpedanceSim(design, \"hfss\")"
   ]
  },
  {
   "cell_type": "code",
   "execution_count": 6,
   "id": "5aa7c6bd",
   "metadata": {},
   "outputs": [
    {
     "data": {
      "text/plain": [
       "{'name': 'Setup',\n",
       " 'reuse_selected_design': True,\n",
       " 'reuse_setup': True,\n",
       " 'freq_ghz': 5.2,\n",
       " 'max_delta_s': 0.15,\n",
       " 'max_passes': 12,\n",
       " 'min_passes': 1,\n",
       " 'min_converged': 1,\n",
       " 'pct_refinement': 30,\n",
       " 'basis_order': 1,\n",
       " 'vars': {'Lj': '10 nH', 'Cj': '0 fF'},\n",
       " 'sweep_setup': {'name': 'Sweep',\n",
       "  'start_ghz': 2.0,\n",
       "  'stop_ghz': 13,\n",
       "  'count': 101,\n",
       "  'step_ghz': None,\n",
       "  'type': 'Fast',\n",
       "  'save_fields': False}}"
      ]
     },
     "execution_count": 6,
     "metadata": {},
     "output_type": "execute_result"
    }
   ],
   "source": [
    "# example: update single setting\n",
    "em1.setup.max_passes = 12\n",
    "em1.setup.sweep_setup.stop_ghz = 13\n",
    "# example: update multiple settings\n",
    "em1.setup_update(max_delta_s = 0.15, freq_ghz = 5.2)\n",
    "\n",
    "em1.setup"
   ]
  },
  {
   "cell_type": "code",
   "execution_count": null,
   "id": "fff9bf8b",
   "metadata": {},
   "outputs": [],
   "source": [
    "em1.run(name=\"SingleTM\", components=[], open_terminations=[], port_list=[('Q1', 'readout', 70)],\n",
    "           jj_to_port=[('Q1', 'rect_jj', 50, True)], box_plus_buffer = False)"
   ]
  },
  {
   "cell_type": "code",
   "execution_count": 8,
   "id": "a95a20e9",
   "metadata": {},
   "outputs": [],
   "source": [
    "#disconnect for submit job : License Issue\n",
    "em1.close()"
   ]
  },
  {
   "cell_type": "markdown",
   "id": "10e0e025",
   "metadata": {},
   "source": [
    "### get S,Y,Z at hfss"
   ]
  },
  {
   "cell_type": "code",
   "execution_count": null,
   "id": "69c12df6",
   "metadata": {},
   "outputs": [],
   "source": [
    "em1.get_impedance();  # default: ['Z11', 'Z21']\n",
    "em1.get_admittance();  # default: ['Y11', 'Y21']\n",
    "em1.get_scattering();  # default: ['S11', 'S21', 'S22']"
   ]
  }
 ],
 "metadata": {
  "kernelspec": {
   "display_name": "metalkernel",
   "language": "python",
   "name": "metalkernel"
  },
  "language_info": {
   "codemirror_mode": {
    "name": "ipython",
    "version": 3
   },
   "file_extension": ".py",
   "mimetype": "text/x-python",
   "name": "python",
   "nbconvert_exporter": "python",
   "pygments_lexer": "ipython3",
   "version": "3.9.5"
  }
 },
 "nbformat": 4,
 "nbformat_minor": 5
}
