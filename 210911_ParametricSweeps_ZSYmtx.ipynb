{
 "cells": [
  {
   "cell_type": "code",
   "execution_count": 1,
   "id": "63d5a7ab",
   "metadata": {},
   "outputs": [],
   "source": [
    "\n",
    "%load_ext autoreload\n",
    "%autoreload 2"
   ]
  },
  {
   "cell_type": "code",
   "execution_count": 2,
   "id": "707d4d53",
   "metadata": {},
   "outputs": [],
   "source": [
    "import qiskit_metal as metal\n",
    "from qiskit_metal import designs, draw\n",
    "from qiskit_metal import MetalGUI, Dict, Headings\n",
    "import pyEPR as epr\n",
    "from qiskit_metal.analyses.simulation import ScatteringImpedanceSim"
   ]
  },
  {
   "cell_type": "code",
   "execution_count": 3,
   "id": "0fb081c9",
   "metadata": {},
   "outputs": [],
   "source": [
    "design = designs.DesignPlanar({}, True)\n",
    "design.chips.main.size['size_x'] = '2mm'\n",
    "design.chips.main.size['size_y'] = '2mm'\n",
    "\n",
    "gui = MetalGUI(design)\n",
    "\n",
    "# Perform the necessary imports.\n",
    "from qiskit_metal.qlibrary.couplers.coupled_line_tee import CoupledLineTee\n",
    "from qiskit_metal.qlibrary.tlines.meandered import RouteMeander\n",
    "from qiskit_metal.qlibrary.qubits.transmon_pocket import TransmonPocket\n",
    "from qiskit_metal.qlibrary.tlines.straight_path import RouteStraight\n",
    "from qiskit_metal.qlibrary.terminations.open_to_ground import OpenToGround"
   ]
  },
  {
   "cell_type": "code",
   "execution_count": 4,
   "id": "f69cc88f",
   "metadata": {},
   "outputs": [],
   "source": [
    "# To create plots after geting solution data.\n",
    "import matplotlib.pyplot as plt\n",
    "import numpy as np"
   ]
  },
  {
   "cell_type": "code",
   "execution_count": 5,
   "id": "602696b1",
   "metadata": {},
   "outputs": [],
   "source": [
    "# Add 2 transmons to the design.\n",
    "options = dict(\n",
    "    # Some options we want to modify from the deafults\n",
    "    # (see below for defaults)\n",
    "    pad_width='425 um',\n",
    "    pocket_height='650um',\n",
    "    # Adding 4 connectors (see below for defaults)\n",
    "    connection_pads=dict(a=dict(loc_W=+1, loc_H=+1),\n",
    "                         b=dict(loc_W=-1, loc_H=+1, pad_height='30um'),\n",
    "                         c=dict(loc_W=+1, loc_H=-1, pad_width='200um'),\n",
    "                         d=dict(loc_W=-1, loc_H=-1, pad_height='50um')))\n",
    "\n",
    "## Create 2 transmons\n",
    "q1 = TransmonPocket(design,\n",
    "                    'Q1',\n",
    "                    options=dict(pos_x='+1.4mm',\n",
    "                                 pos_y='0mm',\n",
    "                                 orientation='90',\n",
    "                                 **options))\n",
    "q2 = TransmonPocket(design,\n",
    "                    'Q2',\n",
    "                    options=dict(pos_x='-0.6mm',\n",
    "                                 pos_y='0mm',\n",
    "                                 orientation='90',\n",
    "                                 **options))\n",
    "\n",
    "gui.rebuild()\n",
    "gui.autoscale()"
   ]
  },
  {
   "cell_type": "code",
   "execution_count": 6,
   "id": "a7135820",
   "metadata": {},
   "outputs": [],
   "source": [
    "\n",
    "# Add 2 hangers consisting of capacitively coupled transmission lines.\n",
    "TQ1 = CoupledLineTee(design,\n",
    "                     'TQ1',\n",
    "                     options=dict(pos_x='1mm',\n",
    "                                  pos_y='3mm',\n",
    "                                  coupling_length='500um',\n",
    "                                  coupling_space='1um'))\n",
    "TQ2 = CoupledLineTee(design,\n",
    "                     'TQ2',\n",
    "                     options=dict(pos_x='-1mm',\n",
    "                                  pos_y='3mm',\n",
    "                                  coupling_length='500um',\n",
    "                                  coupling_space='1um'))\n",
    "\n",
    "gui.rebuild()\n",
    "gui.autoscale()"
   ]
  },
  {
   "cell_type": "code",
   "execution_count": 7,
   "id": "a4bfadf3",
   "metadata": {},
   "outputs": [],
   "source": [
    "\n",
    "# Add 2 meandered CPWs connecting the transmons to the hangers.\n",
    "ops = dict(fillet='90um')\n",
    "design.overwrite_enabled = True\n",
    "\n",
    "options1 = Dict(total_length='8mm',\n",
    "                hfss_wire_bonds=True,\n",
    "                pin_inputs=Dict(start_pin=Dict(component='TQ1',\n",
    "                                               pin='second_end'),\n",
    "                                end_pin=Dict(component='Q1', pin='a')),\n",
    "                lead=Dict(start_straight='0.1mm'),\n",
    "                **ops)\n",
    "\n",
    "options2 = Dict(total_length='9mm',\n",
    "                hfss_wire_bonds=True,\n",
    "                pin_inputs=Dict(start_pin=Dict(component='TQ2',\n",
    "                                               pin='second_end'),\n",
    "                                end_pin=Dict(component='Q2', pin='a')),\n",
    "                lead=Dict(start_straight='0.1mm'),\n",
    "                **ops)\n",
    "\n",
    "meanderQ1 = RouteMeander(design, 'meanderQ1', options=options1)\n",
    "meanderQ2 = RouteMeander(design, 'meanderQ2', options=options2)\n",
    "\n",
    "gui.rebuild()\n",
    "gui.autoscale()"
   ]
  },
  {
   "cell_type": "code",
   "execution_count": 8,
   "id": "a0f37dcb",
   "metadata": {},
   "outputs": [],
   "source": [
    "# Add 2 open to grounds at the ends of the horizontal CPW.\n",
    "otg1 = OpenToGround(design, 'otg1', options=dict(pos_x='3mm', pos_y='3mm'))\n",
    "otg2 = OpenToGround(design,\n",
    "                    'otg2',\n",
    "                    options=dict(pos_x='-3mm', pos_y='3mm', orientation='180'))\n",
    "\n",
    "gui.rebuild()\n",
    "gui.autoscale()\n",
    "\n",
    "# Add 3 straight CPWs that comprise the long horizontal CPW.\n",
    "\n",
    "ops_oR = Dict(hfss_wire_bonds=True,\n",
    "              pin_inputs=Dict(start_pin=Dict(component='TQ1', pin='prime_end'),\n",
    "                              end_pin=Dict(component='otg1', pin='open')))\n",
    "ops_mid = Dict(hfss_wire_bonds=True,\n",
    "               pin_inputs=Dict(start_pin=Dict(component='TQ1',\n",
    "                                              pin='prime_start'),\n",
    "                               end_pin=Dict(component='TQ2', pin='prime_end')))\n",
    "ops_oL = Dict(hfss_wire_bonds=True,\n",
    "              pin_inputs=Dict(start_pin=Dict(component='TQ2',\n",
    "                                             pin='prime_start'),\n",
    "                              end_pin=Dict(component='otg2', pin='open')))\n",
    "\n",
    "cpw_openRight = RouteStraight(design, 'cpw_openRight', options=ops_oR)\n",
    "cpw_middle = RouteStraight(design, 'cpw_middle', options=ops_mid)\n",
    "cpw_openLeft = RouteStraight(design, 'cpw_openLeft', options=ops_oL)\n",
    "\n",
    "gui.rebuild()\n",
    "gui.autoscale()"
   ]
  },
  {
   "cell_type": "markdown",
   "id": "b4121b9e",
   "metadata": {},
   "source": [
    "# 2. Render the qubit from Metal into the HangingResonators design in Ansys.ScatteringImpedanceSim will open the simulation software. Then will connect, activate the design, add a setup."
   ]
  },
  {
   "cell_type": "code",
   "execution_count": 9,
   "id": "836da2b1",
   "metadata": {},
   "outputs": [],
   "source": [
    "em1 = ScatteringImpedanceSim(design, \"hfss\")"
   ]
  },
  {
   "cell_type": "code",
   "execution_count": 10,
   "id": "48fa9b1b",
   "metadata": {},
   "outputs": [],
   "source": [
    "#DrivenModal Setup\n",
    "em1.setup.name = \"Sweep_DrivenModal_setup\"\n",
    "em1.setup.freq_ghz = 6.0\n",
    "em1.setup.max_delta_s = 0.05\n",
    "em1.setup.max_passes = 12\n",
    "em1.setup.min_passes = 2"
   ]
  },
  {
   "cell_type": "code",
   "execution_count": 11,
   "id": "c1d64b98",
   "metadata": {},
   "outputs": [],
   "source": [
    "em1.setup.sweep_setup.name=\"Sweep_options__dm_sweep\"\n",
    "em1.setup.sweep_setup.start_ghz=4.0\n",
    "em1.setup.sweep_setup.stop_ghz=9.0\n",
    "em1.setup.sweep_setup.count=5001\n",
    "em1.setup.sweep_setup.type=\"Interpolating\""
   ]
  },
  {
   "cell_type": "code",
   "execution_count": 12,
   "id": "dbf7b884",
   "metadata": {},
   "outputs": [
    {
     "data": {
      "text/plain": [
       "{'name': 'Sweep_DrivenModal_setup',\n",
       " 'reuse_selected_design': True,\n",
       " 'reuse_setup': True,\n",
       " 'freq_ghz': 6.0,\n",
       " 'max_delta_s': 0.05,\n",
       " 'max_passes': 12,\n",
       " 'min_passes': 2,\n",
       " 'min_converged': 1,\n",
       " 'pct_refinement': 30,\n",
       " 'basis_order': 1,\n",
       " 'vars': {'Lj': '10 nH', 'Cj': '0 fF'},\n",
       " 'sweep_setup': {'name': 'Sweep_options__dm_sweep',\n",
       "  'start_ghz': 4.0,\n",
       "  'stop_ghz': 9.0,\n",
       "  'count': 5001,\n",
       "  'step_ghz': None,\n",
       "  'type': 'Interpolating',\n",
       "  'save_fields': False}}"
      ]
     },
     "execution_count": 12,
     "metadata": {},
     "output_type": "execute_result"
    }
   ],
   "source": [
    "em1.setup"
   ]
  },
  {
   "cell_type": "code",
   "execution_count": 13,
   "id": "a57d6168",
   "metadata": {},
   "outputs": [],
   "source": [
    "em1.setup.renderer.options['x_buffer_width_mm'] = 0.5\n",
    "em1.setup.renderer.options['y_buffer_width_mm'] = 0.5"
   ]
  },
  {
   "cell_type": "code",
   "execution_count": 14,
   "id": "acdae253",
   "metadata": {},
   "outputs": [],
   "source": [
    "design_name= \"Sweep_DrivenModal\"\n",
    "qcomp_render = [] # Means to render everything in qgeometry table.\n",
    "open_terminations = []\n",
    "\n",
    "# Here, pin cpw_openRight_end and cpw_openLeft_end are converted into lumped ports,\n",
    "#           each with an impedance of 50 Ohms. <br>\n",
    "port_list = [('cpw_openRight', 'end', 50),\n",
    "                      ('cpw_openLeft', 'end', 50)]\n",
    "jj_to_port = [('Q1', 'rect_jj', 50, False)]\n",
    "# Neither of the junctions in Q1 or Q2 are rendered.\n",
    "ignored_jjs = [('Q2', 'rect_jj')]\n",
    "box_plus_buffer = True"
   ]
  },
  {
   "cell_type": "code",
   "execution_count": 15,
   "id": "45bbd1b5",
   "metadata": {},
   "outputs": [
    {
     "name": "stderr",
     "output_type": "stream",
     "text": [
      "INFO 03:58PM [connect_project]: Connecting to Ansys Desktop API...\n",
      "INFO 03:58PM [load_ansys_project]: \tOpened Ansys App\n",
      "INFO 03:58PM [load_ansys_project]: \tOpened Ansys Desktop v2021.1.0\n",
      "INFO 03:58PM [load_ansys_project]: \tOpened Ansys Project\n",
      "\tFolder:    C:/Users/Airplane/OneDrive - skku.edu/문서/Ansoft/\n",
      "\tProject:   JPA_XIC\n",
      "INFO 03:58PM [connect_design]: \tOpened active design\n",
      "\tDesign:    HFSSDesign_complete [Solution type: Eigenmode]\n",
      "INFO 03:58PM [get_setup]: \tOpened setup `1mode`  (<class 'pyEPR.ansys.HfssEMSetup'>)\n",
      "INFO 03:58PM [connect]: \tConnected to project \"JPA_XIC\" and design \"HFSSDesign_complete\" 😀 \n",
      "\n",
      "INFO 03:58PM [connect_design]: \tOpened active design\n",
      "\tDesign:    Sweep_DrivenModal_hfss [Solution type: DrivenModal]\n",
      "WARNING 03:58PM [connect_setup]: \tNo design setup detected.\n",
      "WARNING 03:58PM [connect_setup]: \tCreating drivenmodal default setup.\n",
      "INFO 03:58PM [get_setup]: \tOpened setup `Setup`  (<class 'pyEPR.ansys.HfssDMSetup'>)\n",
      "INFO 03:59PM [get_setup]: \tOpened setup `Sweep_DrivenModal_setup`  (<class 'pyEPR.ansys.HfssDMSetup'>)\n",
      "INFO 03:59PM [get_setup]: \tOpened setup `Sweep_DrivenModal_setup`  (<class 'pyEPR.ansys.HfssDMSetup'>)\n",
      "INFO 03:59PM [analyze]: Analyzing setup Sweep_DrivenModal_setup : Sweep_options__dm_sweep\n",
      "03:59PM 20s WARNING [iterate_option_sweep]: For class ScatteringImpedanceSim, run() did not execute as expected: An exception of type com_error occurred. Arguments:\n",
      "(-2147352567, '예외가 발생했습니다.', (0, None, None, None, 0, -2147024349), None)\n",
      "INFO 03:59PM [connect_design]: \tOpened active design\n",
      "\tDesign:    Sweep_DrivenModal_hfss [Solution type: DrivenModal]\n",
      "INFO 04:00PM [get_setup]: \tOpened setup `Sweep_DrivenModal_setup`  (<class 'pyEPR.ansys.HfssDMSetup'>)\n",
      "INFO 04:00PM [get_setup]: \tOpened setup `Sweep_DrivenModal_setup`  (<class 'pyEPR.ansys.HfssDMSetup'>)\n",
      "INFO 04:00PM [analyze]: Analyzing setup Sweep_DrivenModal_setup : Sweep_options__dm_sweep\n",
      "04:00PM 19s WARNING [iterate_option_sweep]: For class ScatteringImpedanceSim, run() did not execute as expected: An exception of type com_error occurred. Arguments:\n",
      "(-2147352567, '예외가 발생했습니다.', (0, None, None, None, 0, -2147024349), None)\n",
      "INFO 04:00PM [connect_design]: \tOpened active design\n",
      "\tDesign:    Sweep_DrivenModal_hfss [Solution type: DrivenModal]\n",
      "INFO 04:01PM [get_setup]: \tOpened setup `Sweep_DrivenModal_setup`  (<class 'pyEPR.ansys.HfssDMSetup'>)\n",
      "INFO 04:01PM [get_setup]: \tOpened setup `Sweep_DrivenModal_setup`  (<class 'pyEPR.ansys.HfssDMSetup'>)\n",
      "INFO 04:01PM [analyze]: Analyzing setup Sweep_DrivenModal_setup : Sweep_options__dm_sweep\n",
      "04:01PM 17s WARNING [iterate_option_sweep]: For class ScatteringImpedanceSim, run() did not execute as expected: An exception of type com_error occurred. Arguments:\n",
      "(-2147352567, '예외가 발생했습니다.', (0, None, None, None, 0, -2147024349), None)\n"
     ]
    }
   ],
   "source": [
    "#Note: The method will connect to  Ansys simulation, activate_drivenmodal_design(), add_drivenmodal_setup().\n",
    "\n",
    "all_sweeps, return_code = em1.run_sweep(meanderQ1.name,\n",
    "                                        'total_length', \n",
    "                                        ['9mm', '10mm', '11mm'],\n",
    "                                        qcomp_render,\n",
    "                                        open_terminations,\n",
    "                                        design_name=design_name,\n",
    "                                        port_list = port_list,\n",
    "                                        jj_to_port= jj_to_port,\n",
    "                                        ignored_jjs= ignored_jjs,\n",
    "                                        box_plus_buffer=box_plus_buffer\n",
    "                                       )"
   ]
  },
  {
   "cell_type": "code",
   "execution_count": 17,
   "id": "7788a066",
   "metadata": {},
   "outputs": [],
   "source": [
    "em1.close()"
   ]
  },
  {
   "cell_type": "code",
   "execution_count": 20,
   "id": "6f3be82c",
   "metadata": {},
   "outputs": [
    {
     "name": "stdout",
     "output_type": "stream",
     "text": [
      "dict_keys(['9mm', '10mm', '11mm'])\n"
     ]
    }
   ],
   "source": [
    "if return_code == 0:\n",
    "    # Each key corresponds to list passed to ['9mm', '8mm', '7mm']\n",
    "    print(all_sweeps.keys())\n",
    "    \n",
    "    # Each key corresponds to list passed to ['6mm', '5mm', '4mm']\n",
    "    # print(all_sweeps_6_7_8.keys())\n",
    "else:\n",
    "    print('Check warning messages to see why all_sweeps is non-zero.')"
   ]
  },
  {
   "cell_type": "code",
   "execution_count": 21,
   "id": "6ea8bc4b",
   "metadata": {},
   "outputs": [
    {
     "data": {
      "text/plain": [
       "dict_keys(['option_name', 'variables'])"
      ]
     },
     "execution_count": 21,
     "metadata": {},
     "output_type": "execute_result"
    }
   ],
   "source": [
    "all_sweeps['9mm'].keys()"
   ]
  },
  {
   "cell_type": "code",
   "execution_count": 22,
   "id": "7d6378bb",
   "metadata": {},
   "outputs": [
    {
     "data": {
      "text/plain": [
       "{'sim_setup_name': 'Sweep_DrivenModal_setup',\n",
       " 'sweep_name': 'Sweep_options__dm_sweep'}"
      ]
     },
     "execution_count": 22,
     "metadata": {},
     "output_type": "execute_result"
    }
   ],
   "source": [
    "all_sweeps['9mm']['variables']"
   ]
  },
  {
   "cell_type": "code",
   "execution_count": 23,
   "id": "f35adacf",
   "metadata": {},
   "outputs": [
    {
     "name": "stdout",
     "output_type": "stream",
     "text": [
      "\n",
      "project_name = JPA_XIC\n",
      "design_name  = Sweep_DrivenModal_hfss\n",
      "setup_name   = Sweep_DrivenModal_setup\n",
      "\n"
     ]
    }
   ],
   "source": [
    "print(f\"\"\"\n",
    "project_name = {em1.renderer.pinfo.project_name}\n",
    "design_name  = {em1.renderer.pinfo.design_name}\n",
    "setup_name   = {em1.renderer.pinfo.setup_name}\n",
    "\"\"\")"
   ]
  },
  {
   "cell_type": "code",
   "execution_count": null,
   "id": "0f488208",
   "metadata": {},
   "outputs": [],
   "source": []
  }
 ],
 "metadata": {
  "kernelspec": {
   "display_name": "metalkernel",
   "language": "python",
   "name": "metalkernel"
  },
  "language_info": {
   "codemirror_mode": {
    "name": "ipython",
    "version": 3
   },
   "file_extension": ".py",
   "mimetype": "text/x-python",
   "name": "python",
   "nbconvert_exporter": "python",
   "pygments_lexer": "ipython3",
   "version": "3.9.5"
  }
 },
 "nbformat": 4,
 "nbformat_minor": 5
}
