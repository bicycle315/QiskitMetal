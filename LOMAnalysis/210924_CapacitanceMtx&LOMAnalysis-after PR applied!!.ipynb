{
 "cells": [
  {
   "cell_type": "markdown",
   "id": "2b6b709c",
   "metadata": {},
   "source": [
    "# 1. Create the design in Metal"
   ]
  },
  {
   "cell_type": "code",
   "execution_count": 1,
   "id": "0131c3d7",
   "metadata": {},
   "outputs": [],
   "source": [
    "%reload_ext autoreload\n",
    "%autoreload 2"
   ]
  },
  {
   "cell_type": "code",
   "execution_count": 2,
   "id": "8b36c001",
   "metadata": {},
   "outputs": [],
   "source": [
    "import qiskit_metal as metal\n",
    "from qiskit_metal import designs, draw\n",
    "from qiskit_metal import MetalGUI, Dict, Headings"
   ]
  },
  {
   "cell_type": "code",
   "execution_count": 3,
   "id": "2fceb524",
   "metadata": {},
   "outputs": [],
   "source": [
    "design = designs.DesignPlanar()\n",
    "gui = MetalGUI(design)\n",
    "\n",
    "from qiskit_metal.qlibrary.qubits.transmon_pocket import TransmonPocket\n",
    "from qiskit_metal.qlibrary.tlines.meandered import RouteMeander"
   ]
  },
  {
   "cell_type": "code",
   "execution_count": 4,
   "id": "8b3fc6e7",
   "metadata": {},
   "outputs": [],
   "source": [
    "design.variables['cpw_width'] = '15 um'\n",
    "design.variables['cpw_gap'] = '9 um'"
   ]
  },
  {
   "cell_type": "markdown",
   "id": "ae2a8d01",
   "metadata": {},
   "source": [
    "# 2. 4 qubits + 4 CPWs"
   ]
  },
  {
   "cell_type": "code",
   "execution_count": 5,
   "id": "459ca420",
   "metadata": {},
   "outputs": [],
   "source": [
    "# Allow running the same cell here multiple times to overwrite changes\n",
    "design.overwrite_enabled = True\n",
    "\n",
    "## Custom options for all the transmons\n",
    "options = dict(\n",
    "    # Some options we want to modify from the defaults\n",
    "    # (see below for defaults)\n",
    "    pad_width = '425 um',\n",
    "    pocket_height = '650um',\n",
    "    # Adding 4 connectors (see below for defaults)\n",
    "    connection_pads=dict(\n",
    "        readout = dict(loc_W=+1,loc_H=-1, pad_width='200um'),\n",
    "        bus1 = dict(loc_W=-1,loc_H=+1, pad_height='30um'),\n",
    "        bus2 = dict(loc_W=-1,loc_H=-1, pad_height='50um')\n",
    "    )\n",
    ")\n",
    "\n",
    "## Create 4 transmons\n",
    "\n",
    "q1 = TransmonPocket(design, 'Q1', options = dict(\n",
    "    pos_x='+2.42251mm', pos_y='+0.0mm', **options))\n",
    "q2 = TransmonPocket(design, 'Q2', options = dict(\n",
    "    pos_x='+0.0mm', pos_y='-0.95mm', orientation = '270', **options))\n",
    "q3 = TransmonPocket(design, 'Q3', options = dict(\n",
    "    pos_x='-2.42251mm', pos_y='+0.0mm', orientation = '180', **options))\n",
    "q4 = TransmonPocket(design, 'Q4', options = dict(\n",
    "    pos_x='+0.0mm', pos_y='+0.95mm', orientation = '90', **options))\n",
    "\n",
    "RouteMeander.get_template_options(design)\n",
    "\n",
    "options = Dict(\n",
    "        lead=Dict(\n",
    "            start_straight='0.2mm',\n",
    "            end_straight='0.2mm'),\n",
    "        trace_gap='9um',\n",
    "        trace_width='15um')\n",
    "\n",
    "def connect(component_name: str, component1: str, pin1: str, component2: str, pin2: str,\n",
    "            length: str, asymmetry='0 um', flip=False, fillet='90um'):\n",
    "    \"\"\"Connect two pins with a CPW.\"\"\"\n",
    "    myoptions = Dict(\n",
    "        fillet=fillet,\n",
    "        hfss_wire_bonds = True,\n",
    "        pin_inputs=Dict(\n",
    "            start_pin=Dict(\n",
    "                component=component1,\n",
    "                pin=pin1),\n",
    "            end_pin=Dict(\n",
    "                component=component2,\n",
    "                pin=pin2)),\n",
    "        total_length=length)\n",
    "    myoptions.update(options)\n",
    "    myoptions.meander.asymmetry = asymmetry\n",
    "    myoptions.meander.lead_direction_inverted = 'true' if flip else 'false'\n",
    "    return RouteMeander(design, component_name, myoptions)\n",
    "\n",
    "asym = 140\n",
    "cpw1 = connect('cpw1', 'Q1', 'bus2', 'Q2', 'bus1', '6.0 mm', f'+{asym}um')\n",
    "cpw2 = connect('cpw2', 'Q3', 'bus1', 'Q2', 'bus2', '6.1 mm', f'-{asym}um', flip=True)\n",
    "cpw3 = connect('cpw3', 'Q3', 'bus2', 'Q4', 'bus1', '6.0 mm', f'+{asym}um')\n",
    "cpw4 = connect('cpw4', 'Q1', 'bus1', 'Q4', 'bus2', '6.1 mm', f'-{asym}um', flip=True)\n",
    "\n",
    "gui.rebuild()\n",
    "gui.autoscale()"
   ]
  },
  {
   "cell_type": "markdown",
   "id": "2d345a9a",
   "metadata": {},
   "source": [
    "# 2. Capacitance Analysis and LOM derivation using the analysis package - most users"
   ]
  },
  {
   "cell_type": "code",
   "execution_count": 6,
   "id": "54b63bf4",
   "metadata": {},
   "outputs": [],
   "source": [
    "from qiskit_metal.analyses.quantization import LOManalysis\n",
    "c1 = LOManalysis(design, \"q3d\")"
   ]
  },
  {
   "cell_type": "code",
   "execution_count": 8,
   "id": "9051f72e",
   "metadata": {},
   "outputs": [
    {
     "data": {
      "text/plain": [
       "{'name': 'Setup',\n",
       " 'reuse_selected_design': True,\n",
       " 'reuse_setup': True,\n",
       " 'freq_ghz': 5.0,\n",
       " 'save_fields': False,\n",
       " 'enabled': True,\n",
       " 'max_passes': 6,\n",
       " 'min_passes': 2,\n",
       " 'min_converged_passes': 2,\n",
       " 'percent_error': 0.5,\n",
       " 'percent_refinement': 30,\n",
       " 'auto_increase_solution_order': 'False',\n",
       " 'solution_order': 'Medium',\n",
       " 'solver_type': 'Iterative'}"
      ]
     },
     "execution_count": 8,
     "metadata": {},
     "output_type": "execute_result"
    }
   ],
   "source": [
    "# example: update single setting\n",
    "c1.sim.setup.max_passes = 6\n",
    "# example: update multiple settings\n",
    "c1.sim.setup_update(solution_order = 'Medium', auto_increase_solution_order = 'False')\n",
    "\n",
    "c1.sim.setup"
   ]
  },
  {
   "cell_type": "code",
   "execution_count": 10,
   "id": "2763d628",
   "metadata": {
    "scrolled": true
   },
   "outputs": [
    {
     "name": "stderr",
     "output_type": "stream",
     "text": [
      "INFO 10:29AM [connect_project]: Connecting to Ansys Desktop API...\n",
      "INFO 10:29AM [load_ansys_project]: \tOpened Ansys App\n",
      "INFO 10:29AM [load_ansys_project]: \tOpened Ansys Desktop v2021.1.0\n",
      "INFO 10:29AM [load_ansys_project]: \tOpened Ansys Project\n",
      "\tFolder:    C:/Users/Airplane/OneDrive - skku.edu/문서/Ansoft/\n",
      "\tProject:   Project1\n",
      "INFO 10:29AM [connect_design]: No active design found (or error getting active design).\n",
      "INFO 10:29AM [connect]: \t Connected to project \"Project1\". No design detected\n",
      "INFO 10:29AM [connect_design]: \tOpened active design\n",
      "\tDesign:    Design_q3d [Solution type: Q3D]\n",
      "WARNING 10:29AM [connect_setup]: \tNo design setup detected.\n",
      "WARNING 10:29AM [connect_setup]: \tCreating Q3D default setup.\n",
      "INFO 10:29AM [get_setup]: \tOpened setup `Setup`  (<class 'pyEPR.ansys.AnsysQ3DSetup'>)\n",
      "INFO 10:29AM [get_setup]: \tOpened setup `Setup`  (<class 'pyEPR.ansys.AnsysQ3DSetup'>)\n",
      "INFO 10:29AM [analyze]: Analyzing setup Setup\n"
     ]
    },
    {
     "ename": "com_error",
     "evalue": "(-2147352567, '예외가 발생했습니다.', (0, None, None, None, 0, -2147024349), None)",
     "output_type": "error",
     "traceback": [
      "\u001b[1;31m---------------------------------------------------------------------------\u001b[0m",
      "\u001b[1;31mcom_error\u001b[0m                                 Traceback (most recent call last)",
      "\u001b[1;32m<ipython-input-10-9a1124b6b614>\u001b[0m in \u001b[0;36m<module>\u001b[1;34m\u001b[0m\n\u001b[1;32m----> 1\u001b[1;33m \u001b[0mc1\u001b[0m\u001b[1;33m.\u001b[0m\u001b[0msim\u001b[0m\u001b[1;33m.\u001b[0m\u001b[0mrun\u001b[0m\u001b[1;33m(\u001b[0m\u001b[0mcomponents\u001b[0m\u001b[1;33m=\u001b[0m\u001b[1;33m[\u001b[0m\u001b[1;34m'Q1'\u001b[0m\u001b[1;33m]\u001b[0m\u001b[1;33m,\u001b[0m \u001b[0mopen_terminations\u001b[0m\u001b[1;33m=\u001b[0m\u001b[1;33m[\u001b[0m\u001b[1;33m(\u001b[0m\u001b[1;34m'Q1'\u001b[0m\u001b[1;33m,\u001b[0m \u001b[1;34m'readout'\u001b[0m\u001b[1;33m)\u001b[0m\u001b[1;33m,\u001b[0m \u001b[1;33m(\u001b[0m\u001b[1;34m'Q1'\u001b[0m\u001b[1;33m,\u001b[0m \u001b[1;34m'bus1'\u001b[0m\u001b[1;33m)\u001b[0m\u001b[1;33m,\u001b[0m \u001b[1;33m(\u001b[0m\u001b[1;34m'Q1'\u001b[0m\u001b[1;33m,\u001b[0m \u001b[1;34m'bus2'\u001b[0m\u001b[1;33m)\u001b[0m\u001b[1;33m]\u001b[0m\u001b[1;33m)\u001b[0m\u001b[1;33m\u001b[0m\u001b[1;33m\u001b[0m\u001b[0m\n\u001b[0m\u001b[0;32m      2\u001b[0m \u001b[0mc1\u001b[0m\u001b[1;33m.\u001b[0m\u001b[0msim\u001b[0m\u001b[1;33m.\u001b[0m\u001b[0mcapacitance_matrix\u001b[0m\u001b[1;33m\u001b[0m\u001b[1;33m\u001b[0m\u001b[0m\n",
      "\u001b[1;32mc:\\users\\airplane\\qiskit-metal\\qiskit_metal\\analyses\\core\\simulation.py\u001b[0m in \u001b[0;36mrun\u001b[1;34m(self, *args, **kwargs)\u001b[0m\n\u001b[0;32m    201\u001b[0m         \u001b[0mpreventing\u001b[0m \u001b[0mmethod\u001b[0m \u001b[0mname\u001b[0m \u001b[0mcollision\u001b[0m \u001b[0mwhen\u001b[0m \u001b[0msim\u001b[0m \u001b[1;32mand\u001b[0m \u001b[0mnon\u001b[0m\u001b[1;33m-\u001b[0m\u001b[0msim\u001b[0m \u001b[0mQAnalysis\u001b[0m \u001b[0mclasses\u001b[0m \u001b[0mare\u001b[0m \u001b[0minherited\u001b[0m\u001b[1;33m.\u001b[0m\u001b[1;33m\u001b[0m\u001b[1;33m\u001b[0m\u001b[0m\n\u001b[0;32m    202\u001b[0m         \"\"\"\n\u001b[1;32m--> 203\u001b[1;33m         \u001b[0mself\u001b[0m\u001b[1;33m.\u001b[0m\u001b[0mrun_sim\u001b[0m\u001b[1;33m(\u001b[0m\u001b[1;33m*\u001b[0m\u001b[0margs\u001b[0m\u001b[1;33m,\u001b[0m \u001b[1;33m**\u001b[0m\u001b[0mkwargs\u001b[0m\u001b[1;33m)\u001b[0m\u001b[1;33m\u001b[0m\u001b[1;33m\u001b[0m\u001b[0m\n\u001b[0m\u001b[0;32m    204\u001b[0m \u001b[1;33m\u001b[0m\u001b[0m\n\u001b[0;32m    205\u001b[0m     \u001b[1;33m@\u001b[0m\u001b[0mabstractmethod\u001b[0m\u001b[1;33m\u001b[0m\u001b[1;33m\u001b[0m\u001b[0m\n",
      "\u001b[1;32mc:\\users\\airplane\\qiskit-metal\\qiskit_metal\\analyses\\simulation\\lumped_elements.py\u001b[0m in \u001b[0;36mrun_sim\u001b[1;34m(self, name, components, open_terminations, box_plus_buffer)\u001b[0m\n\u001b[0;32m    134\u001b[0m                                             vars_to_initialize=Dict())\n\u001b[0;32m    135\u001b[0m \u001b[1;33m\u001b[0m\u001b[0m\n\u001b[1;32m--> 136\u001b[1;33m         \u001b[0mself\u001b[0m\u001b[1;33m.\u001b[0m\u001b[0m_analyze\u001b[0m\u001b[1;33m(\u001b[0m\u001b[1;33m)\u001b[0m\u001b[1;33m\u001b[0m\u001b[1;33m\u001b[0m\u001b[0m\n\u001b[0m\u001b[0;32m    137\u001b[0m         \u001b[1;32mreturn\u001b[0m \u001b[0mrenderer_design_name\u001b[0m\u001b[1;33m,\u001b[0m \u001b[0mself\u001b[0m\u001b[1;33m.\u001b[0m\u001b[0msim_setup_name\u001b[0m\u001b[1;33m\u001b[0m\u001b[1;33m\u001b[0m\u001b[0m\n\u001b[0;32m    138\u001b[0m \u001b[1;33m\u001b[0m\u001b[0m\n",
      "\u001b[1;32mc:\\users\\airplane\\qiskit-metal\\qiskit_metal\\analyses\\simulation\\lumped_elements.py\u001b[0m in \u001b[0;36m_analyze\u001b[1;34m(self)\u001b[0m\n\u001b[0;32m     82\u001b[0m         \u001b[0mself\u001b[0m\u001b[1;33m.\u001b[0m\u001b[0msim_setup_name\u001b[0m \u001b[1;33m=\u001b[0m \u001b[0mself\u001b[0m\u001b[1;33m.\u001b[0m\u001b[0mrenderer\u001b[0m\u001b[1;33m.\u001b[0m\u001b[0minitialize_cap_extract\u001b[0m\u001b[1;33m(\u001b[0m\u001b[1;33m**\u001b[0m\u001b[0mself\u001b[0m\u001b[1;33m.\u001b[0m\u001b[0msetup\u001b[0m\u001b[1;33m)\u001b[0m\u001b[1;33m\u001b[0m\u001b[1;33m\u001b[0m\u001b[0m\n\u001b[0;32m     83\u001b[0m \u001b[1;33m\u001b[0m\u001b[0m\n\u001b[1;32m---> 84\u001b[1;33m         \u001b[0mself\u001b[0m\u001b[1;33m.\u001b[0m\u001b[0mrenderer\u001b[0m\u001b[1;33m.\u001b[0m\u001b[0manalyze_setup\u001b[0m\u001b[1;33m(\u001b[0m\u001b[0mself\u001b[0m\u001b[1;33m.\u001b[0m\u001b[0msim_setup_name\u001b[0m\u001b[1;33m)\u001b[0m\u001b[1;33m\u001b[0m\u001b[1;33m\u001b[0m\u001b[0m\n\u001b[0m\u001b[0;32m     85\u001b[0m \u001b[1;33m\u001b[0m\u001b[0m\n\u001b[0;32m     86\u001b[0m         \u001b[1;31m# extract main (latest) capacitance matrix\u001b[0m\u001b[1;33m\u001b[0m\u001b[1;33m\u001b[0m\u001b[1;33m\u001b[0m\u001b[0m\n",
      "\u001b[1;32mc:\\users\\airplane\\qiskit-metal\\qiskit_metal\\renderers\\renderer_ansys\\q3d_renderer.py\u001b[0m in \u001b[0;36manalyze_setup\u001b[1;34m(self, setup_name)\u001b[0m\n\u001b[0;32m    381\u001b[0m         \u001b[1;32mif\u001b[0m \u001b[0mself\u001b[0m\u001b[1;33m.\u001b[0m\u001b[0mpinfo\u001b[0m\u001b[1;33m:\u001b[0m\u001b[1;33m\u001b[0m\u001b[1;33m\u001b[0m\u001b[0m\n\u001b[0;32m    382\u001b[0m             \u001b[0msetup\u001b[0m \u001b[1;33m=\u001b[0m \u001b[0mself\u001b[0m\u001b[1;33m.\u001b[0m\u001b[0mpinfo\u001b[0m\u001b[1;33m.\u001b[0m\u001b[0mget_setup\u001b[0m\u001b[1;33m(\u001b[0m\u001b[0msetup_name\u001b[0m\u001b[1;33m)\u001b[0m\u001b[1;33m\u001b[0m\u001b[1;33m\u001b[0m\u001b[0m\n\u001b[1;32m--> 383\u001b[1;33m             \u001b[0msetup\u001b[0m\u001b[1;33m.\u001b[0m\u001b[0manalyze\u001b[0m\u001b[1;33m(\u001b[0m\u001b[0msetup_name\u001b[0m\u001b[1;33m)\u001b[0m\u001b[1;33m\u001b[0m\u001b[1;33m\u001b[0m\u001b[0m\n\u001b[0m\u001b[0;32m    384\u001b[0m \u001b[1;33m\u001b[0m\u001b[0m\n\u001b[0;32m    385\u001b[0m     def get_capacitance_matrix(self,\n",
      "\u001b[1;32m~\\anaconda3\\envs\\metal\\lib\\site-packages\\pyEPR\\ansys.py\u001b[0m in \u001b[0;36manalyze\u001b[1;34m(self, name)\u001b[0m\n\u001b[0;32m   1037\u001b[0m             \u001b[0mname\u001b[0m \u001b[1;33m=\u001b[0m \u001b[0mself\u001b[0m\u001b[1;33m.\u001b[0m\u001b[0mname\u001b[0m\u001b[1;33m\u001b[0m\u001b[1;33m\u001b[0m\u001b[0m\n\u001b[0;32m   1038\u001b[0m         \u001b[0mlogger\u001b[0m\u001b[1;33m.\u001b[0m\u001b[0minfo\u001b[0m\u001b[1;33m(\u001b[0m\u001b[1;34mf'Analyzing setup {name}'\u001b[0m\u001b[1;33m)\u001b[0m\u001b[1;33m\u001b[0m\u001b[1;33m\u001b[0m\u001b[0m\n\u001b[1;32m-> 1039\u001b[1;33m         \u001b[1;32mreturn\u001b[0m \u001b[0mself\u001b[0m\u001b[1;33m.\u001b[0m\u001b[0mparent\u001b[0m\u001b[1;33m.\u001b[0m\u001b[0m_design\u001b[0m\u001b[1;33m.\u001b[0m\u001b[0mAnalyze\u001b[0m\u001b[1;33m(\u001b[0m\u001b[0mname\u001b[0m\u001b[1;33m)\u001b[0m\u001b[1;33m\u001b[0m\u001b[1;33m\u001b[0m\u001b[0m\n\u001b[0m\u001b[0;32m   1040\u001b[0m \u001b[1;33m\u001b[0m\u001b[0m\n\u001b[0;32m   1041\u001b[0m     \u001b[1;32mdef\u001b[0m \u001b[0msolve\u001b[0m\u001b[1;33m(\u001b[0m\u001b[0mself\u001b[0m\u001b[1;33m,\u001b[0m \u001b[0mname\u001b[0m\u001b[1;33m=\u001b[0m\u001b[1;32mNone\u001b[0m\u001b[1;33m)\u001b[0m\u001b[1;33m:\u001b[0m\u001b[1;33m\u001b[0m\u001b[1;33m\u001b[0m\u001b[0m\n",
      "\u001b[1;32m~\\anaconda3\\envs\\metal\\lib\\site-packages\\win32com\\client\\dynamic.py\u001b[0m in \u001b[0;36mAnalyze\u001b[1;34m(self, simulationName)\u001b[0m\n",
      "\u001b[1;31mcom_error\u001b[0m: (-2147352567, '예외가 발생했습니다.', (0, None, None, None, 0, -2147024349), None)"
     ]
    }
   ],
   "source": [
    "c1.sim.run(components=['Q1'], open_terminations=[('Q1', 'readout'), ('Q1', 'bus1'), ('Q1', 'bus2')])\n",
    "c1.sim.capacitance_matrix"
   ]
  },
  {
   "cell_type": "code",
   "execution_count": null,
   "id": "2d70b72c",
   "metadata": {
    "scrolled": true
   },
   "outputs": [],
   "source": [
    "c1.sim.close()"
   ]
  },
  {
   "cell_type": "code",
   "execution_count": 9,
   "id": "5a14ff66",
   "metadata": {},
   "outputs": [
    {
     "name": "stderr",
     "output_type": "stream",
     "text": [
      "INFO 09:26AM [connect_project]: Connecting to Ansys Desktop API...\n",
      "INFO 09:26AM [load_ansys_project]: \tOpened Ansys App\n",
      "INFO 09:26AM [load_ansys_project]: \tOpened Ansys Desktop v2021.1.0\n",
      "INFO 09:26AM [load_ansys_project]: \tOpened Ansys Project\n",
      "\tFolder:    C:/Users/Airplane/OneDrive - skku.edu/문서/Ansoft/\n",
      "\tProject:   Tutorial_CapMtxLOM\n",
      "INFO 09:26AM [connect_design]: \tOpened active design\n",
      "\tDesign:    Design_q3d [Solution type: Q3D]\n",
      "INFO 09:26AM [get_setup]: \tOpened setup `Setup`  (<class 'pyEPR.ansys.AnsysQ3DSetup'>)\n",
      "INFO 09:26AM [connect]: \tConnected to project \"Tutorial_CapMtxLOM\" and design \"Design_q3d\" 😀 \n",
      "\n"
     ]
    }
   ],
   "source": [
    "c1.sim.start()"
   ]
  },
  {
   "cell_type": "code",
   "execution_count": 10,
   "id": "f32abd95",
   "metadata": {},
   "outputs": [
    {
     "name": "stderr",
     "output_type": "stream",
     "text": [
      "INFO 09:26AM [get_matrix]: Exporting matrix data to (C:\\Users\\Airplane\\AppData\\Local\\Temp\\tmptt7e2aj3.txt, C, , Setup:LastAdaptive, \"Original\", \"ohm\", \"nH\", \"fF\", \"mSie\", 5000000000, Maxwell, 1, False\n",
      "INFO 09:26AM [get_matrix]: Exporting matrix data to (C:\\Users\\Airplane\\AppData\\Local\\Temp\\tmpv08r3l01.txt, C, , Setup:AdaptivePass, \"Original\", \"ohm\", \"nH\", \"fF\", \"mSie\", 5000000000, Maxwell, 1, False\n",
      "INFO 09:26AM [get_matrix]: Exporting matrix data to (C:\\Users\\Airplane\\AppData\\Local\\Temp\\tmpxwwxx4k2.txt, C, , Setup:AdaptivePass, \"Original\", \"ohm\", \"nH\", \"fF\", \"mSie\", 5000000000, Maxwell, 2, False\n",
      "INFO 09:26AM [get_matrix]: Exporting matrix data to (C:\\Users\\Airplane\\AppData\\Local\\Temp\\tmpmby1rjjh.txt, C, , Setup:AdaptivePass, \"Original\", \"ohm\", \"nH\", \"fF\", \"mSie\", 5000000000, Maxwell, 3, False\n",
      "INFO 09:26AM [get_matrix]: Exporting matrix data to (C:\\Users\\Airplane\\AppData\\Local\\Temp\\tmpavvxrdnq.txt, C, , Setup:AdaptivePass, \"Original\", \"ohm\", \"nH\", \"fF\", \"mSie\", 5000000000, Maxwell, 4, False\n",
      "INFO 09:26AM [get_matrix]: Exporting matrix data to (C:\\Users\\Airplane\\AppData\\Local\\Temp\\tmpbl5474qd.txt, C, , Setup:AdaptivePass, \"Original\", \"ohm\", \"nH\", \"fF\", \"mSie\", 5000000000, Maxwell, 5, False\n",
      "INFO 09:26AM [get_matrix]: Exporting matrix data to (C:\\Users\\Airplane\\AppData\\Local\\Temp\\tmp6pht4sdk.txt, C, , Setup:AdaptivePass, \"Original\", \"ohm\", \"nH\", \"fF\", \"mSie\", 5000000000, Maxwell, 6, False\n",
      "INFO 09:26AM [get_matrix]: Exporting matrix data to (C:\\Users\\Airplane\\AppData\\Local\\Temp\\tmpqq0jeo6h.txt, C, , Setup:AdaptivePass, \"Original\", \"ohm\", \"nH\", \"fF\", \"mSie\", 5000000000, Maxwell, 7, False\n"
     ]
    },
    {
     "data": {
      "text/html": [
       "<div>\n",
       "<style scoped>\n",
       "    .dataframe tbody tr th:only-of-type {\n",
       "        vertical-align: middle;\n",
       "    }\n",
       "\n",
       "    .dataframe tbody tr th {\n",
       "        vertical-align: top;\n",
       "    }\n",
       "\n",
       "    .dataframe thead th {\n",
       "        text-align: right;\n",
       "    }\n",
       "</style>\n",
       "<table border=\"1\" class=\"dataframe\">\n",
       "  <thead>\n",
       "    <tr style=\"text-align: right;\">\n",
       "      <th></th>\n",
       "      <th>bus1_connector_pad_Q1</th>\n",
       "      <th>bus2_connector_pad_Q1</th>\n",
       "      <th>ground_main_plane</th>\n",
       "      <th>pad_bot_Q1</th>\n",
       "      <th>pad_top_Q1</th>\n",
       "      <th>readout_connector_pad_Q1</th>\n",
       "    </tr>\n",
       "  </thead>\n",
       "  <tbody>\n",
       "    <tr>\n",
       "      <th>bus1_connector_pad_Q1</th>\n",
       "      <td>49.77799</td>\n",
       "      <td>-0.42560</td>\n",
       "      <td>-33.50864</td>\n",
       "      <td>-1.57029</td>\n",
       "      <td>-13.15538</td>\n",
       "      <td>-0.20494</td>\n",
       "    </tr>\n",
       "    <tr>\n",
       "      <th>bus2_connector_pad_Q1</th>\n",
       "      <td>-0.42560</td>\n",
       "      <td>54.01891</td>\n",
       "      <td>-35.77524</td>\n",
       "      <td>-13.99741</td>\n",
       "      <td>-1.82852</td>\n",
       "      <td>-1.01320</td>\n",
       "    </tr>\n",
       "    <tr>\n",
       "      <th>ground_main_plane</th>\n",
       "      <td>-33.50864</td>\n",
       "      <td>-35.77524</td>\n",
       "      <td>237.69027</td>\n",
       "      <td>-31.53489</td>\n",
       "      <td>-37.88739</td>\n",
       "      <td>-36.55731</td>\n",
       "    </tr>\n",
       "    <tr>\n",
       "      <th>pad_bot_Q1</th>\n",
       "      <td>-1.57029</td>\n",
       "      <td>-13.99741</td>\n",
       "      <td>-31.53489</td>\n",
       "      <td>98.20664</td>\n",
       "      <td>-30.07382</td>\n",
       "      <td>-18.86490</td>\n",
       "    </tr>\n",
       "    <tr>\n",
       "      <th>pad_top_Q1</th>\n",
       "      <td>-13.15538</td>\n",
       "      <td>-1.82852</td>\n",
       "      <td>-37.88739</td>\n",
       "      <td>-30.07382</td>\n",
       "      <td>87.85084</td>\n",
       "      <td>-2.20122</td>\n",
       "    </tr>\n",
       "    <tr>\n",
       "      <th>readout_connector_pad_Q1</th>\n",
       "      <td>-0.20494</td>\n",
       "      <td>-1.01320</td>\n",
       "      <td>-36.55731</td>\n",
       "      <td>-18.86490</td>\n",
       "      <td>-2.20122</td>\n",
       "      <td>59.92351</td>\n",
       "    </tr>\n",
       "  </tbody>\n",
       "</table>\n",
       "</div>"
      ],
      "text/plain": [
       "                          bus1_connector_pad_Q1  bus2_connector_pad_Q1  \\\n",
       "bus1_connector_pad_Q1                  49.77799               -0.42560   \n",
       "bus2_connector_pad_Q1                  -0.42560               54.01891   \n",
       "ground_main_plane                     -33.50864              -35.77524   \n",
       "pad_bot_Q1                             -1.57029              -13.99741   \n",
       "pad_top_Q1                            -13.15538               -1.82852   \n",
       "readout_connector_pad_Q1               -0.20494               -1.01320   \n",
       "\n",
       "                          ground_main_plane  pad_bot_Q1  pad_top_Q1  \\\n",
       "bus1_connector_pad_Q1             -33.50864    -1.57029   -13.15538   \n",
       "bus2_connector_pad_Q1             -35.77524   -13.99741    -1.82852   \n",
       "ground_main_plane                 237.69027   -31.53489   -37.88739   \n",
       "pad_bot_Q1                        -31.53489    98.20664   -30.07382   \n",
       "pad_top_Q1                        -37.88739   -30.07382    87.85084   \n",
       "readout_connector_pad_Q1          -36.55731   -18.86490    -2.20122   \n",
       "\n",
       "                          readout_connector_pad_Q1  \n",
       "bus1_connector_pad_Q1                     -0.20494  \n",
       "bus2_connector_pad_Q1                     -1.01320  \n",
       "ground_main_plane                        -36.55731  \n",
       "pad_bot_Q1                               -18.86490  \n",
       "pad_top_Q1                                -2.20122  \n",
       "readout_connector_pad_Q1                  59.92351  "
      ]
     },
     "execution_count": 10,
     "metadata": {},
     "output_type": "execute_result"
    }
   ],
   "source": [
    "c1.sim._get_results_from_renderer()\n",
    "c1.sim.capacitance_matrix"
   ]
  },
  {
   "cell_type": "code",
   "execution_count": 11,
   "id": "3fa3d474",
   "metadata": {},
   "outputs": [
    {
     "data": {
      "text/plain": [
       "pandas.core.frame.DataFrame"
      ]
     },
     "execution_count": 11,
     "metadata": {},
     "output_type": "execute_result"
    }
   ],
   "source": [
    "type(c1.sim.capacitance_matrix)"
   ]
  },
  {
   "cell_type": "markdown",
   "id": "32c17bb0",
   "metadata": {},
   "source": [
    "# Lumped oscillator model (LOM)"
   ]
  },
  {
   "cell_type": "code",
   "execution_count": 12,
   "id": "6073d53f",
   "metadata": {},
   "outputs": [
    {
     "name": "stdout",
     "output_type": "stream",
     "text": [
      "[3, 4] [5 0 1]\n",
      "Predicted Values\n",
      "\n",
      "Transmon Properties\n",
      "f_Q 5.424935 [GHz]\n",
      "EC 311.976948 [MHz]\n",
      "EJ 13.273404 [GHz]\n",
      "alpha -363.792406 [MHz]\n",
      "dispersion 46.550353 [KHz]\n",
      "Lq 12.305036 [nH]\n",
      "Cq 62.088652 [fF]\n",
      "T1 35.336801 [us]\n",
      "\n",
      "**Coupling Properties**\n",
      "\n",
      "tCqbus1 7.383745 [fF]\n",
      "gbus1_in_MHz 114.265711 [MHz]\n",
      "χ_bus1 -3.174186 [MHz]\n",
      "1/T1bus1 2809.273326 [Hz]\n",
      "T1bus1 56.653421 [us]\n",
      "\n",
      "tCqbus2 -6.455284 [fF]\n",
      "gbus2_in_MHz -85.831848 [MHz]\n",
      "χ_bus2 -9.970477 [MHz]\n",
      "1/T1bus2 1205.470295 [Hz]\n",
      "T1bus2 132.027262 [us]\n",
      "\n",
      "tCqbus3 5.372188 [fF]\n",
      "gbus3_in_MHz 73.765124 [MHz]\n",
      "χ_bus3 -4.515410 [MHz]\n",
      "1/T1bus3 489.199561 [Hz]\n",
      "T1bus3 325.337461 [us]\n",
      "Bus-Bus Couplings\n",
      "gbus1_2 7.097122 [MHz]\n",
      "gbus1_3 9.957520 [MHz]\n",
      "gbus2_3 5.377145 [MHz]\n"
     ]
    },
    {
     "data": {
      "text/html": [
       "<div>\n",
       "<style scoped>\n",
       "    .dataframe tbody tr th:only-of-type {\n",
       "        vertical-align: middle;\n",
       "    }\n",
       "\n",
       "    .dataframe tbody tr th {\n",
       "        vertical-align: top;\n",
       "    }\n",
       "\n",
       "    .dataframe thead th {\n",
       "        text-align: right;\n",
       "    }\n",
       "</style>\n",
       "<table border=\"1\" class=\"dataframe\">\n",
       "  <thead>\n",
       "    <tr style=\"text-align: right;\">\n",
       "      <th></th>\n",
       "      <th>fQ</th>\n",
       "      <th>EC</th>\n",
       "      <th>EJ</th>\n",
       "      <th>alpha</th>\n",
       "      <th>dispersion</th>\n",
       "      <th>gbus</th>\n",
       "      <th>chi_in_MHz</th>\n",
       "      <th>χr MHz</th>\n",
       "      <th>gr MHz</th>\n",
       "    </tr>\n",
       "  </thead>\n",
       "  <tbody>\n",
       "    <tr>\n",
       "      <th>1</th>\n",
       "      <td>5.748104</td>\n",
       "      <td>353.230672</td>\n",
       "      <td>13.273404</td>\n",
       "      <td>-417.375147</td>\n",
       "      <td>135.208268</td>\n",
       "      <td>[108.79200978040816, -73.21708181328188, 76.45...</td>\n",
       "      <td>[-4.790610087146361, -26.577069875285524, -12....</td>\n",
       "      <td>4.790610</td>\n",
       "      <td>108.792010</td>\n",
       "    </tr>\n",
       "    <tr>\n",
       "      <th>2</th>\n",
       "      <td>5.664673</td>\n",
       "      <td>342.29546</td>\n",
       "      <td>13.273404</td>\n",
       "      <td>-403.045756</td>\n",
       "      <td>103.898361</td>\n",
       "      <td>[112.4840344536537, -82.16155872148896, 68.802...</td>\n",
       "      <td>[-4.459428523665049, -22.01884264095459, -7.62...</td>\n",
       "      <td>4.459429</td>\n",
       "      <td>112.484034</td>\n",
       "    </tr>\n",
       "    <tr>\n",
       "      <th>3</th>\n",
       "      <td>5.574019</td>\n",
       "      <td>330.639508</td>\n",
       "      <td>13.273404</td>\n",
       "      <td>-387.872696</td>\n",
       "      <td>77.330632</td>\n",
       "      <td>[111.33611899021486, -84.09226364022662, 71.77...</td>\n",
       "      <td>[-3.7804641524649494, -15.86558554786528, -6.3...</td>\n",
       "      <td>3.780464</td>\n",
       "      <td>111.336119</td>\n",
       "    </tr>\n",
       "    <tr>\n",
       "      <th>4</th>\n",
       "      <td>5.523032</td>\n",
       "      <td>324.186357</td>\n",
       "      <td>13.273404</td>\n",
       "      <td>-379.516629</td>\n",
       "      <td>65.212167</td>\n",
       "      <td>[110.99790102064628, -84.10822360591217, 72.87...</td>\n",
       "      <td>[-3.472071661530782, -13.18585634948887, -5.66...</td>\n",
       "      <td>3.472072</td>\n",
       "      <td>110.997901</td>\n",
       "    </tr>\n",
       "    <tr>\n",
       "      <th>5</th>\n",
       "      <td>5.463771</td>\n",
       "      <td>316.778216</td>\n",
       "      <td>13.273404</td>\n",
       "      <td>-369.962558</td>\n",
       "      <td>53.275079</td>\n",
       "      <td>[113.07913083130138, -84.87715341728405, 72.79...</td>\n",
       "      <td>[-3.293717610482083, -11.011720591398394, -4.8...</td>\n",
       "      <td>3.293718</td>\n",
       "      <td>113.079131</td>\n",
       "    </tr>\n",
       "    <tr>\n",
       "      <th>6</th>\n",
       "      <td>5.424935</td>\n",
       "      <td>311.976948</td>\n",
       "      <td>13.273404</td>\n",
       "      <td>-363.792406</td>\n",
       "      <td>46.550353</td>\n",
       "      <td>[114.26571069942564, -85.83184768292763, 73.76...</td>\n",
       "      <td>[-3.174186233473547, -9.970476953012021, -4.51...</td>\n",
       "      <td>3.174186</td>\n",
       "      <td>114.265711</td>\n",
       "    </tr>\n",
       "  </tbody>\n",
       "</table>\n",
       "</div>"
      ],
      "text/plain": [
       "         fQ          EC         EJ       alpha  dispersion  \\\n",
       "1  5.748104  353.230672  13.273404 -417.375147  135.208268   \n",
       "2  5.664673   342.29546  13.273404 -403.045756  103.898361   \n",
       "3  5.574019  330.639508  13.273404 -387.872696   77.330632   \n",
       "4  5.523032  324.186357  13.273404 -379.516629   65.212167   \n",
       "5  5.463771  316.778216  13.273404 -369.962558   53.275079   \n",
       "6  5.424935  311.976948  13.273404 -363.792406   46.550353   \n",
       "\n",
       "                                                gbus  \\\n",
       "1  [108.79200978040816, -73.21708181328188, 76.45...   \n",
       "2  [112.4840344536537, -82.16155872148896, 68.802...   \n",
       "3  [111.33611899021486, -84.09226364022662, 71.77...   \n",
       "4  [110.99790102064628, -84.10822360591217, 72.87...   \n",
       "5  [113.07913083130138, -84.87715341728405, 72.79...   \n",
       "6  [114.26571069942564, -85.83184768292763, 73.76...   \n",
       "\n",
       "                                          chi_in_MHz    χr MHz      gr MHz  \n",
       "1  [-4.790610087146361, -26.577069875285524, -12....  4.790610  108.792010  \n",
       "2  [-4.459428523665049, -22.01884264095459, -7.62...  4.459429  112.484034  \n",
       "3  [-3.7804641524649494, -15.86558554786528, -6.3...  3.780464  111.336119  \n",
       "4  [-3.472071661530782, -13.18585634948887, -5.66...  3.472072  110.997901  \n",
       "5  [-3.293717610482083, -11.011720591398394, -4.8...  3.293718  113.079131  \n",
       "6  [-3.174186233473547, -9.970476953012021, -4.51...  3.174186  114.265711  "
      ]
     },
     "execution_count": 12,
     "metadata": {},
     "output_type": "execute_result"
    }
   ],
   "source": [
    "c1.setup.junctions = Dict({'Lj': 12.31, 'Cj': 2})\n",
    "c1.setup.freq_readout = 7.0\n",
    "c1.setup.freq_bus = [6.0, 6.2]\n",
    "\n",
    "c1.run_lom()\n",
    "c1.lumped_oscillator_all"
   ]
  },
  {
   "cell_type": "code",
   "execution_count": 13,
   "id": "974803af",
   "metadata": {},
   "outputs": [
    {
     "name": "stderr",
     "output_type": "stream",
     "text": [
      "INFO 09:27AM [hfss_report_full_convergence]: Creating report for variation 0\n"
     ]
    },
    {
     "name": "stdout",
     "output_type": "stream",
     "text": [
      "Design \"Design_q3d\" info:\n",
      "\t# eigenmodes    0\n",
      "\t# variations    1\n"
     ]
    }
   ],
   "source": [
    "c1.plot_convergence();\n",
    "c1.plot_convergence_chi()\n",
    "# -> g,chk convergence vs pass"
   ]
  },
  {
   "cell_type": "code",
   "execution_count": 14,
   "id": "cb98d934",
   "metadata": {},
   "outputs": [],
   "source": [
    "c1.sim.close()"
   ]
  },
  {
   "cell_type": "code",
   "execution_count": null,
   "id": "d194558c",
   "metadata": {},
   "outputs": [],
   "source": []
  }
 ],
 "metadata": {
  "kernelspec": {
   "display_name": "metalkernel",
   "language": "python",
   "name": "metalkernel"
  },
  "language_info": {
   "codemirror_mode": {
    "name": "ipython",
    "version": 3
   },
   "file_extension": ".py",
   "mimetype": "text/x-python",
   "name": "python",
   "nbconvert_exporter": "python",
   "pygments_lexer": "ipython3",
   "version": "3.9.5"
  }
 },
 "nbformat": 4,
 "nbformat_minor": 5
}
